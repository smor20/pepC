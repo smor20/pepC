{
 "cells": [
  {
   "cell_type": "markdown",
   "metadata": {},
   "source": [
    "#### print decreasing"
   ]
  },
  {
   "cell_type": "code",
   "execution_count": 1,
   "metadata": {},
   "outputs": [
    {
     "name": "stdout",
     "output_type": "stream",
     "text": [
      "5\n",
      "4\n",
      "3\n",
      "2\n",
      "1\n"
     ]
    }
   ],
   "source": [
    "def pd(n):\n",
    "    if n==0:\n",
    "        return\n",
    "    print(n)\n",
    "    pd(n-1)\n",
    "    \n",
    "pd(5)"
   ]
  },
  {
   "cell_type": "markdown",
   "metadata": {},
   "source": [
    "#### print increasing"
   ]
  },
  {
   "cell_type": "code",
   "execution_count": null,
   "metadata": {},
   "outputs": [],
   "source": [
    "def pinc(n):\n",
    "    if n==0:\n",
    "        return\n",
    "    pinc(n-1)\n",
    "    print(n)"
   ]
  },
  {
   "cell_type": "code",
   "execution_count": 3,
   "metadata": {},
   "outputs": [
    {
     "name": "stdout",
     "output_type": "stream",
     "text": [
      "10\n",
      "20\n",
      "30\n"
     ]
    }
   ],
   "source": [
    "def display_array(lst,n):   \n",
    "    # base\n",
    "    if n==0:\n",
    "        return\n",
    "    display_array(lst,n-1)\n",
    "    print(lst[n-1])\n",
    "    \n",
    "display_array([10,20,30],3)\n",
    "#_______________________________\n",
    "def display_array2(lst,n):\n",
    "    #base\n",
    "    if n==len(lst):\n",
    "        return\n",
    "    \n",
    "    print(lst[n])\n",
    "    display_array2(lst,n+1)\n",
    "    "
   ]
  },
  {
   "cell_type": "code",
   "execution_count": 9,
   "metadata": {},
   "outputs": [
    {
     "name": "stdout",
     "output_type": "stream",
     "text": [
      "20000\n"
     ]
    }
   ],
   "source": [
    "def arr_max(arr, n):\n",
    "    # base\n",
    "    if n==len(arr)-1:\n",
    "        return arr[n]\n",
    "\n",
    "    x=arr_max(arr,n+1)\n",
    "    if x>arr[n]:\n",
    "        return x\n",
    "    else:\n",
    "        return arr[n]\n",
    "    \n",
    "print(arr_max([20000,10,300,125],0))"
   ]
  },
  {
   "cell_type": "code",
   "execution_count": null,
   "metadata": {},
   "outputs": [],
   "source": [
    "##index of first occurance\n",
    "\n",
    "def idx_fst(arr,n,x):\n",
    "    #base\n",
    "    if (n==len(arr)):\n",
    "        return -1\n",
    "    \n",
    "    isa=idx_fst(arr,n+1,x)\n",
    "    \n",
    "    if (arr[n]==x):\n",
    "        return n\n",
    "    else:\n",
    "        return isa\n",
    "    \n",
    "\n",
    "idx_fst([8,12,8,6,9],0,8)"
   ]
  }
 ],
 "metadata": {
  "kernelspec": {
   "display_name": "base",
   "language": "python",
   "name": "python3"
  },
  "language_info": {
   "codemirror_mode": {
    "name": "ipython",
    "version": 3
   },
   "file_extension": ".py",
   "mimetype": "text/x-python",
   "name": "python",
   "nbconvert_exporter": "python",
   "pygments_lexer": "ipython3",
   "version": "3.9.7"
  }
 },
 "nbformat": 4,
 "nbformat_minor": 2
}
