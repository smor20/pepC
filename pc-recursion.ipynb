{
 "cells": [
  {
   "cell_type": "markdown",
   "metadata": {},
   "source": [
    "#### print decreasing"
   ]
  },
  {
   "cell_type": "code",
   "execution_count": 1,
   "metadata": {},
   "outputs": [
    {
     "name": "stdout",
     "output_type": "stream",
     "text": [
      "5\n",
      "4\n",
      "3\n",
      "2\n",
      "1\n"
     ]
    }
   ],
   "source": [
    "def pd(n):\n",
    "    if n==0:\n",
    "        return\n",
    "    print(n)\n",
    "    pd(n-1)\n",
    "    \n",
    "pd(5)"
   ]
  },
  {
   "cell_type": "markdown",
   "metadata": {},
   "source": [
    "#### print increasing"
   ]
  },
  {
   "cell_type": "code",
   "execution_count": null,
   "metadata": {},
   "outputs": [],
   "source": [
    "def pinc(n):\n",
    "    if n==0:\n",
    "        return\n",
    "    pinc(n-1)\n",
    "    print(n)"
   ]
  },
  {
   "cell_type": "code",
   "execution_count": 3,
   "metadata": {},
   "outputs": [
    {
     "name": "stdout",
     "output_type": "stream",
     "text": [
      "10\n",
      "20\n",
      "30\n"
     ]
    }
   ],
   "source": [
    "def display_array(lst,n):   \n",
    "    # base\n",
    "    if n==0:\n",
    "        return\n",
    "    display_array(lst,n-1)\n",
    "    print(lst[n-1])\n",
    "    \n",
    "display_array([10,20,30],3)\n",
    "#_______________________________\n",
    "def display_array2(lst,n):\n",
    "    #base\n",
    "    if n==len(lst):\n",
    "        return\n",
    "    \n",
    "    print(lst[n])\n",
    "    display_array2(lst,n+1)\n",
    "    "
   ]
  },
  {
   "cell_type": "code",
   "execution_count": 9,
   "metadata": {},
   "outputs": [
    {
     "name": "stdout",
     "output_type": "stream",
     "text": [
      "20000\n"
     ]
    }
   ],
   "source": [
    "def arr_max(arr, n):\n",
    "    # base\n",
    "    if n==len(arr)-1:\n",
    "        return arr[n]\n",
    "\n",
    "    x=arr_max(arr,n+1)\n",
    "    if x>arr[n]:\n",
    "        return x\n",
    "    else:\n",
    "        return arr[n]\n",
    "    \n",
    "print(arr_max([20000,10,300,125],0))"
   ]
  },
  {
   "cell_type": "code",
   "execution_count": 20,
   "metadata": {},
   "outputs": [
    {
     "name": "stdout",
     "output_type": "stream",
     "text": [
      "4\n"
     ]
    }
   ],
   "source": [
    "##index of first occurance\n",
    "\n",
    "def idx_fst(arr,idx,x):\n",
    "    #base\n",
    "    # print(f'idx is {idx}')\n",
    "    if (idx==len(arr)):\n",
    "        return -1 \n",
    "    if arr[idx]==x:\n",
    "        return idx\n",
    "    else:\n",
    "        return(idx_fst(arr,idx+1,x))\n",
    "\n",
    "    \n",
    "\n",
    "print(idx_fst([8,12,8,6,3,3,9],0,3))"
   ]
  },
  {
   "cell_type": "code",
   "execution_count": 23,
   "metadata": {},
   "outputs": [
    {
     "name": "stdout",
     "output_type": "stream",
     "text": [
      "5\n"
     ]
    }
   ],
   "source": [
    "## index of last occurance\n",
    "def idx_last(arr,idx,x):\n",
    "    # base\n",
    "    if idx==len(arr):\n",
    "        return -1\n",
    "    iisa=idx_last(arr,idx+1,x) #iisa->index in smaller array\n",
    "    if (arr[idx]==x) and idx>iisa:\n",
    "        return idx\n",
    "    else:\n",
    "        return iisa\n",
    "\n",
    "print(idx_last([8,12,8,6,3,3,9],0,3))\n"
   ]
  },
  {
   "cell_type": "code",
   "execution_count": 31,
   "metadata": {},
   "outputs": [
    {
     "name": "stdout",
     "output_type": "stream",
     "text": [
      "[0, 2, 4]\n"
     ]
    }
   ],
   "source": [
    "# all index of an array\n",
    "nl=[]\n",
    "def idx_all(arr,idx,x,fsf):\n",
    "    #base\n",
    "    if idx>=len(arr):\n",
    "        return [0]*fsf\n",
    "    if arr[idx]==x:\n",
    "        lfsa=idx_all(arr,idx+1,x,fsf+1)\n",
    "        lfsa[fsf]=idx\n",
    "        return lfsa\n",
    "    else:\n",
    "        lfsa=idx_all(arr,idx+1,x,fsf)\n",
    "        return lfsa\n",
    "    \n",
    "        \n",
    "    \n",
    "print(idx_all([8,9,8,7,8],0,8,0))"
   ]
  },
  {
   "cell_type": "code",
   "execution_count": 32,
   "metadata": {},
   "outputs": [
    {
     "data": {
      "text/plain": [
       "[1, 1, 1]"
      ]
     },
     "execution_count": 32,
     "metadata": {},
     "output_type": "execute_result"
    }
   ],
   "source": [
    "[1]*3"
   ]
  },
  {
   "cell_type": "code",
   "execution_count": 35,
   "metadata": {},
   "outputs": [
    {
     "name": "stdout",
     "output_type": "stream",
     "text": [
      "['', 'a', 'b', 'ab', 'c', 'ac', 'bc', 'abc']\n"
     ]
    }
   ],
   "source": [
    "##  get subseqence of a string in form of a list \n",
    "def get_ss(s):\n",
    "    #base\n",
    "    if len(s)==0:\n",
    "        return ['']\n",
    "    ch0=s[0]\n",
    "    ros=s[1:]\n",
    "    rres=get_ss(ros)\n",
    "    mres=[]\n",
    "    for i in rres:\n",
    "        mres.append(i)\n",
    "        mres.append(ch0+i)\n",
    "    return mres\n",
    "    \n",
    "    \n",
    "print(get_ss('abc'))"
   ]
  },
  {
   "cell_type": "code",
   "execution_count": null,
   "metadata": {},
   "outputs": [],
   "source": [
    "## https://www.youtube.com/watch?v=97mF4juql6g&list=PL-Jc9J83PIiFxaBahjslhBD1LiJAV7nKs&index=26\n",
    "## get key-pad combination\n",
    "keys = {\n",
    "    '2': 'ABC',\n",
    "    '3': 'DEF',\n",
    "    '4': 'GHI',\n",
    "    '5': 'JKL',\n",
    "    '6': 'MNO',\n",
    "    '7': 'PQRS',\n",
    "    '8': 'TUV',\n",
    "    '9': 'WXYZ'\n",
    "}\n",
    "def key_comb('234',keys):\n",
    "    #base\n",
    "    ch0=s[0]\n",
    "    ros=s[1:]\n",
    "    rres=key_comb(ros,keys)\n",
    "    mres=[]\n",
    "    for i in rres:\n",
    "        mres.append(rres)\n",
    "        for j in keys[ch0]\n"
   ]
  },
  {
   "cell_type": "code",
   "execution_count": 36,
   "metadata": {},
   "outputs": [
    {
     "data": {
      "text/plain": [
       "'ABC'"
      ]
     },
     "execution_count": 36,
     "metadata": {},
     "output_type": "execute_result"
    }
   ],
   "source": [
    "k = {\n",
    "    '2': 'ABC',\n",
    "    '3': 'DEF',\n",
    "    '4': 'GHI',\n",
    "    '5': 'JKL',\n",
    "    '6': 'MNO',\n",
    "    '7': 'PQRS',\n",
    "    '8': 'TUV',\n",
    "    '9': 'WXYZ'\n",
    "}\n",
    "k['2']"
   ]
  }
 ],
 "metadata": {
  "kernelspec": {
   "display_name": "base",
   "language": "python",
   "name": "python3"
  },
  "language_info": {
   "codemirror_mode": {
    "name": "ipython",
    "version": 3
   },
   "file_extension": ".py",
   "mimetype": "text/x-python",
   "name": "python",
   "nbconvert_exporter": "python",
   "pygments_lexer": "ipython3",
   "version": "3.11.3"
  }
 },
 "nbformat": 4,
 "nbformat_minor": 2
}
