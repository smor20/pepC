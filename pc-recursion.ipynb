{
 "cells": [
  {
   "cell_type": "markdown",
   "metadata": {},
   "source": [
    "#### print decreasing"
   ]
  },
  {
   "cell_type": "code",
   "execution_count": 1,
   "metadata": {},
   "outputs": [
    {
     "name": "stdout",
     "output_type": "stream",
     "text": [
      "5\n",
      "4\n",
      "3\n",
      "2\n",
      "1\n"
     ]
    }
   ],
   "source": [
    "def pd(n):\n",
    "    if n==0:\n",
    "        return\n",
    "    print(n)\n",
    "    pd(n-1)\n",
    "    \n",
    "pd(5)"
   ]
  },
  {
   "cell_type": "markdown",
   "metadata": {},
   "source": [
    "#### print increasing"
   ]
  },
  {
   "cell_type": "code",
   "execution_count": null,
   "metadata": {},
   "outputs": [],
   "source": [
    "def pinc(n):\n",
    "    if n==0:\n",
    "        return\n",
    "    pinc(n-1)\n",
    "    print(n)"
   ]
  },
  {
   "cell_type": "code",
   "execution_count": 3,
   "metadata": {},
   "outputs": [
    {
     "name": "stdout",
     "output_type": "stream",
     "text": [
      "10\n",
      "20\n",
      "30\n"
     ]
    }
   ],
   "source": [
    "def display_array(lst,n):   \n",
    "    # base\n",
    "    if n==0:\n",
    "        return\n",
    "    display_array(lst,n-1)\n",
    "    print(lst[n-1])\n",
    "    \n",
    "display_array([10,20,30],3)\n",
    "#_______________________________\n",
    "def display_array2(lst,n):\n",
    "    #base\n",
    "    if n==len(lst):\n",
    "        return\n",
    "    \n",
    "    print(lst[n])\n",
    "    display_array2(lst,n+1)\n",
    "    "
   ]
  },
  {
   "cell_type": "code",
   "execution_count": 9,
   "metadata": {},
   "outputs": [
    {
     "name": "stdout",
     "output_type": "stream",
     "text": [
      "20000\n"
     ]
    }
   ],
   "source": [
    "def arr_max(arr, n):\n",
    "    # base\n",
    "    if n==len(arr)-1:\n",
    "        return arr[n]\n",
    "\n",
    "    x=arr_max(arr,n+1)\n",
    "    if x>arr[n]:\n",
    "        return x\n",
    "    else:\n",
    "        return arr[n]\n",
    "    \n",
    "print(arr_max([20000,10,300,125],0))"
   ]
  },
  {
   "cell_type": "code",
   "execution_count": 20,
   "metadata": {},
   "outputs": [
    {
     "name": "stdout",
     "output_type": "stream",
     "text": [
      "4\n"
     ]
    }
   ],
   "source": [
    "##index of first occurance\n",
    "\n",
    "def idx_fst(arr,idx,x):\n",
    "    #base\n",
    "    # print(f'idx is {idx}')\n",
    "    if (idx==len(arr)):\n",
    "        return -1 \n",
    "    if arr[idx]==x:\n",
    "        return idx\n",
    "    else:\n",
    "        return(idx_fst(arr,idx+1,x))\n",
    "\n",
    "    \n",
    "\n",
    "print(idx_fst([8,12,8,6,3,3,9],0,3))"
   ]
  },
  {
   "cell_type": "code",
   "execution_count": 23,
   "metadata": {},
   "outputs": [
    {
     "name": "stdout",
     "output_type": "stream",
     "text": [
      "5\n"
     ]
    }
   ],
   "source": [
    "## index of last occurance\n",
    "def idx_last(arr,idx,x):\n",
    "    # base\n",
    "    if idx==len(arr):\n",
    "        return -1\n",
    "    iisa=idx_last(arr,idx+1,x) #iisa->index in smaller array\n",
    "    if (arr[idx]==x) and idx>iisa:\n",
    "        return idx\n",
    "    else:\n",
    "        return iisa\n",
    "\n",
    "print(idx_last([8,12,8,6,3,3,9],0,3))\n"
   ]
  },
  {
   "cell_type": "code",
   "execution_count": 31,
   "metadata": {},
   "outputs": [
    {
     "name": "stdout",
     "output_type": "stream",
     "text": [
      "[0, 2, 4]\n"
     ]
    }
   ],
   "source": [
    "# all index of an array\n",
    "nl=[]\n",
    "def idx_all(arr,idx,x,fsf):\n",
    "    #base\n",
    "    if idx>=len(arr):\n",
    "        return [0]*fsf\n",
    "    if arr[idx]==x:\n",
    "        lfsa=idx_all(arr,idx+1,x,fsf+1)\n",
    "        lfsa[fsf]=idx\n",
    "        return lfsa\n",
    "    else:\n",
    "        lfsa=idx_all(arr,idx+1,x,fsf)\n",
    "        return lfsa\n",
    "    \n",
    "        \n",
    "    \n",
    "print(idx_all([8,9,8,7,8],0,8,0))"
   ]
  },
  {
   "cell_type": "code",
   "execution_count": 32,
   "metadata": {},
   "outputs": [
    {
     "data": {
      "text/plain": [
       "[1, 1, 1]"
      ]
     },
     "execution_count": 32,
     "metadata": {},
     "output_type": "execute_result"
    }
   ],
   "source": [
    "[1]*3"
   ]
  },
  {
   "cell_type": "code",
   "execution_count": 35,
   "metadata": {},
   "outputs": [
    {
     "name": "stdout",
     "output_type": "stream",
     "text": [
      "['', 'a', 'b', 'ab', 'c', 'ac', 'bc', 'abc']\n"
     ]
    }
   ],
   "source": [
    "##  get subseqence of a string in form of a list \n",
    "def get_ss(s):\n",
    "    #base\n",
    "    if len(s)==0:\n",
    "        return ['']\n",
    "    ch0=s[0]\n",
    "    ros=s[1:]\n",
    "    rres=get_ss(ros)\n",
    "    mres=[]\n",
    "    for i in rres:\n",
    "        mres.append(i)\n",
    "        mres.append(ch0+i)\n",
    "    return mres\n",
    "    \n",
    "    \n",
    "print(get_ss('abc'))"
   ]
  },
  {
   "cell_type": "code",
   "execution_count": 34,
   "metadata": {},
   "outputs": [
    {
     "name": "stdout",
     "output_type": "stream",
     "text": [
      "27\n"
     ]
    }
   ],
   "source": [
    "## https://www.youtube.com/watch?v=97mF4juql6g&list=PL-Jc9J83PIiFxaBahjslhBD1LiJAV7nKs&index=26\n",
    "## get key-pad combination\n",
    "keys_dict = {\n",
    "    '2': 'ABC',\n",
    "    '3': 'DEF',\n",
    "    '4': 'GHI',\n",
    "    '5': 'JKL',\n",
    "    '6': 'MNO',\n",
    "    '7': 'PQRS',\n",
    "    '8': 'TUV',\n",
    "    '9': 'WXYZ'\n",
    "}\n",
    "keys=[',:', 'abc','def','ghi','jkl','mno','pqrs','tuv','wxyz']\n",
    "def key_comb(s,keys):\n",
    "    #base\n",
    "    if len(s)==0:\n",
    "        return ['']\n",
    "    ch0=s[0]\n",
    "    # print(int(ch0))\n",
    "    ros=s[1:]\n",
    "    rres=key_comb(ros,keys)\n",
    "    mres=[]\n",
    "    codeforch=keys[int(ch0)]\n",
    "    # print(codeforch)\n",
    "    for i in codeforch:\n",
    "        # print(i)\n",
    "        for j in rres:\n",
    "            # print(j)\n",
    "            mres.append(i+j)\n",
    "        \n",
    "    return mres\n",
    "\n",
    "print(len(key_comb('123',keys)))  "
   ]
  },
  {
   "cell_type": "code",
   "execution_count": 6,
   "metadata": {},
   "outputs": [
    {
     "name": "stdout",
     "output_type": "stream",
     "text": [
      "['11111', '1112', '1121', '113', '1211', '122', '131', '2111', '212', '221', '23', '311', '32']\n"
     ]
    }
   ],
   "source": [
    "#### get stair path- print all the path for reaching at stair 0 from stair n.\n",
    "def gsp(n):\n",
    "    # base\n",
    "    if n==0:\n",
    "        bres=['']\n",
    "        return bres\n",
    "    elif n<0:\n",
    "        bres=[]\n",
    "        return bres\n",
    "\n",
    "\n",
    "    paths1=gsp(n-1)\n",
    "    paths2=gsp(n-2)\n",
    "    paths3=gsp(n-3)\n",
    "\n",
    "    paths=[]\n",
    "    for path in paths1:\n",
    "        paths.append('1'+path)\n",
    "    for path in paths2:\n",
    "        paths.append('2'+path)\n",
    "    for path in paths3:\n",
    "        paths.append('3'+path)\n",
    "    return paths\n",
    "\n",
    "print(gsp(5))"
   ]
  },
  {
   "cell_type": "code",
   "execution_count": 10,
   "metadata": {},
   "outputs": [
    {
     "name": "stdout",
     "output_type": "stream",
     "text": [
      "['vhh', 'hvh', 'hhv']\n"
     ]
    }
   ],
   "source": [
    "#### get maze path- given is a grid of m-rows and n-columns. We can move 1-step horizontal or 1-step vertical in one time. what are the ways to reach from top-left corner to bottom-right corner.\n",
    "\n",
    "def gmp(m,n):\n",
    "    if m==1 and n==1:\n",
    "        return ['']\n",
    "    elif m<1 or n<1:\n",
    "        return []\n",
    "    p1=gmp(m-1,n)   #vertical movement\n",
    "    p2=gmp(m,n-1)   #horizontal movement\n",
    "\n",
    "    paths=[]\n",
    "    for path in p1:\n",
    "        paths.append('v'+path)\n",
    "    for path in p2:\n",
    "        paths.append('h'+path)\n",
    "    return paths\n",
    "\n",
    "print(gmp(2,3))\n",
    "\n"
   ]
  },
  {
   "cell_type": "code",
   "execution_count": null,
   "metadata": {},
   "outputs": [],
   "source": []
  },
  {
   "cell_type": "code",
   "execution_count": 2,
   "metadata": {},
   "outputs": [
    {
     "name": "stdout",
     "output_type": "stream",
     "text": [
      "[]\n"
     ]
    }
   ],
   "source": [
    "l=[]\n",
    "l1=[]\n",
    "for i in l:\n",
    "    l1.append(i+'a')\n",
    "print(l1)\n"
   ]
  }
 ],
 "metadata": {
  "kernelspec": {
   "display_name": "base",
   "language": "python",
   "name": "python3"
  },
  "language_info": {
   "codemirror_mode": {
    "name": "ipython",
    "version": 3
   },
   "file_extension": ".py",
   "mimetype": "text/x-python",
   "name": "python",
   "nbconvert_exporter": "python",
   "pygments_lexer": "ipython3",
   "version": "3.9.7"
  }
 },
 "nbformat": 4,
 "nbformat_minor": 2
}
