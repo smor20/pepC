{
 "cells": [
  {
   "cell_type": "markdown",
   "metadata": {},
   "source": [
    "#### print decreasing"
   ]
  },
  {
   "cell_type": "code",
   "execution_count": 1,
   "metadata": {},
   "outputs": [
    {
     "name": "stdout",
     "output_type": "stream",
     "text": [
      "5\n",
      "4\n",
      "3\n",
      "2\n",
      "1\n"
     ]
    }
   ],
   "source": [
    "def pd(n):\n",
    "    if n==0:\n",
    "        return\n",
    "    print(n)\n",
    "    pd(n-1)\n",
    "    \n",
    "pd(5)"
   ]
  },
  {
   "cell_type": "markdown",
   "metadata": {},
   "source": [
    "#### print increasing"
   ]
  },
  {
   "cell_type": "code",
   "execution_count": null,
   "metadata": {},
   "outputs": [],
   "source": [
    "def pinc(n):\n",
    "    if n==0:\n",
    "        return\n",
    "    pinc(n-1)\n",
    "    print(n)"
   ]
  },
  {
   "cell_type": "code",
   "execution_count": 3,
   "metadata": {},
   "outputs": [
    {
     "name": "stdout",
     "output_type": "stream",
     "text": [
      "10\n",
      "20\n",
      "30\n"
     ]
    }
   ],
   "source": [
    "def display_array(lst,n):   \n",
    "    # base\n",
    "    if n==0:\n",
    "        return\n",
    "    display_array(lst,n-1)\n",
    "    print(lst[n-1])\n",
    "    \n",
    "display_array([10,20,30],3)\n",
    "#_______________________________\n",
    "def display_array2(lst,n):\n",
    "    #base\n",
    "    if n==len(lst):\n",
    "        return\n",
    "    \n",
    "    print(lst[n])\n",
    "    display_array2(lst,n+1)\n",
    "    "
   ]
  }
 ],
 "metadata": {
  "kernelspec": {
   "display_name": "base",
   "language": "python",
   "name": "python3"
  },
  "language_info": {
   "codemirror_mode": {
    "name": "ipython",
    "version": 3
   },
   "file_extension": ".py",
   "mimetype": "text/x-python",
   "name": "python",
   "nbconvert_exporter": "python",
   "pygments_lexer": "ipython3",
   "version": "3.11.3"
  }
 },
 "nbformat": 4,
 "nbformat_minor": 2
}
